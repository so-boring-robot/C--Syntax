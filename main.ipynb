{
 "cells": [
  {
   "cell_type": "markdown",
   "metadata": {},
   "source": [
    "#### Premier programme en C#"
   ]
  },
  {
   "cell_type": "code",
   "execution_count": 4,
   "metadata": {
    "dotnet_interactive": {
     "language": "csharp"
    },
    "polyglot_notebook": {
     "kernelName": "csharp"
    },
    "vscode": {
     "languageId": "polyglot-notebook"
    }
   },
   "outputs": [
    {
     "name": "stdout",
     "output_type": "stream",
     "text": [
      "Hello world\r\n"
     ]
    }
   ],
   "source": [
    "Console.WriteLine(\"Hello world\");"
   ]
  },
  {
   "cell_type": "markdown",
   "metadata": {},
   "source": [
    "#### Les types basiques en C#"
   ]
  },
  {
   "cell_type": "code",
   "execution_count": 5,
   "metadata": {
    "dotnet_interactive": {
     "language": "csharp"
    },
    "polyglot_notebook": {
     "kernelName": "csharp"
    },
    "vscode": {
     "languageId": "polyglot-notebook"
    }
   },
   "outputs": [
    {
     "name": "stdout",
     "output_type": "stream",
     "text": [
      "c'est le 1er cours en C#\n",
      "c'est le 2ème cours en C#\n",
      "c'est le 3ème cours en C#\n",
      "c'est le 3.500000ème cours en C#\n",
      "c'est le 4ème cours en C#\n",
      "c'est le testème cours en C#\n",
      "c'est le Trueème cours en C#\n"
     ]
    }
   ],
   "source": [
    "int entier = 1;\n",
    "float petit_flottant = 2.0F;\n",
    "double grand_flottant = 3.0;\n",
    "decimal grand_et_precis_flottant = 3.500000m;\n",
    "char caractere = '4';\n",
    "string mot = \"test\";\n",
    "bool verite = true; //Non convertible en 1 ou 0 contrairement aux autres langages\n",
    "const int je_change_pas = 10;\n",
    "\n",
    "\n",
    "Console.WriteLine(\"c'est le \"+entier+\"er cours en C#\");\n",
    "Console.WriteLine(\"c'est le \"+petit_flottant+\"ème cours en C#\");\n",
    "Console.WriteLine(\"c'est le \"+grand_flottant+\"ème cours en C#\");\n",
    "Console.WriteLine(\"c'est le \"+grand_et_precis_flottant+\"ème cours en C#\");\n",
    "Console.WriteLine(\"c'est le \"+caractere+\"ème cours en C#\");\n",
    "Console.WriteLine(\"c'est le \"+mot+\"ème cours en C#\");\n",
    "Console.WriteLine(\"c'est le \"+verite+\"ème cours en C#\");"
   ]
  },
  {
   "cell_type": "code",
   "execution_count": 6,
   "metadata": {
    "dotnet_interactive": {
     "language": "csharp"
    },
    "polyglot_notebook": {
     "kernelName": "csharp"
    },
    "vscode": {
     "languageId": "polyglot-notebook"
    }
   },
   "outputs": [
    {
     "name": "stdout",
     "output_type": "stream",
     "text": [
      "Opérateur += : 1\n",
      "Opérateur -= : 0\n",
      "Opérateur += : 2\n",
      "Opérateur *= : 2\n",
      "Opérateur /= : 2\n",
      "Opérateur %= : 0\n"
     ]
    }
   ],
   "source": [
    "int operator_test = 1;\n",
    "int val = 0;\n",
    "Console.WriteLine(\"Opérateur += : \"+(val+=operator_test));\n",
    "Console.WriteLine(\"Opérateur -= : \"+(val-=operator_test));\n",
    "Console.WriteLine(\"Opérateur += : \"+(val+=(operator_test*2)));\n",
    "Console.WriteLine(\"Opérateur *= : \"+(val*=operator_test));\n",
    "Console.WriteLine(\"Opérateur /= : \"+(val/=operator_test));\n",
    "Console.WriteLine(\"Opérateur %= : \"+(val%=operator_test));"
   ]
  },
  {
   "cell_type": "markdown",
   "metadata": {},
   "source": [
    "#### Les tableaux : Quand le nombre d'élément est fixe"
   ]
  },
  {
   "cell_type": "code",
   "execution_count": 7,
   "metadata": {
    "dotnet_interactive": {
     "language": "csharp"
    },
    "polyglot_notebook": {
     "kernelName": "csharp"
    },
    "vscode": {
     "languageId": "polyglot-notebook"
    }
   },
   "outputs": [
    {
     "name": "stdout",
     "output_type": "stream",
     "text": [
      "Tableau = : System.String[]\n",
      "\n",
      "Valeur = : New World\n",
      "\n",
      "===================\n",
      "\n",
      "Valeur = New World\n",
      "\n",
      "Valeur = Blue Protocol\n",
      "\n",
      "Valeur = Black Desert Online\n",
      "\n",
      "===================\n",
      "\n",
      "ValeurNew World\n",
      "\n",
      "ValeurBlue Protocol\n",
      "\n",
      "ValeurBlack Desert Online\n",
      "\n"
     ]
    }
   ],
   "source": [
    "string[] nom_des_librairies = new string[] {\"New World\", \"Blue Protocol\", \"Black Desert Online\"};\n",
    "nom_des_librairies[0] = \"New World\";\n",
    "// Affichage du tableau peu concluant\n",
    "Console.WriteLine(\"Tableau = : \"+nom_des_librairies+\"\\n\");\n",
    "\n",
    "// Affichage d'une des valeurs du tableau\n",
    "Console.WriteLine(\"Valeur = : \"+nom_des_librairies[0]+\"\\n\");\n",
    "\n",
    "Console.WriteLine(\"===================\\n\");\n",
    "\n",
    "foreach(var item in nom_des_librairies)\n",
    "{\n",
    "    Console.WriteLine(\"Valeur = \"+item.ToString()+\"\\n\");\n",
    "}\n",
    "\n",
    "Console.WriteLine(\"===================\\n\");\n",
    "\n",
    "nom_des_librairies.ToList().ForEach(i => Console.WriteLine(\"Valeur\"+i.ToString()+\"\\n\"));\n",
    "\n",
    "int[] exemplaire_de_mon_livre_par_librairie = new int[3];\n"
   ]
  },
  {
   "cell_type": "markdown",
   "metadata": {},
   "source": [
    "#### Les listes : Quand le nombre d'élément n'est pas fixe"
   ]
  },
  {
   "cell_type": "code",
   "execution_count": 8,
   "metadata": {
    "dotnet_interactive": {
     "language": "csharp"
    },
    "polyglot_notebook": {
     "kernelName": "csharp"
    },
    "vscode": {
     "languageId": "polyglot-notebook"
    }
   },
   "outputs": [
    {
     "name": "stdout",
     "output_type": "stream",
     "text": [
      "Jeux :\n",
      "\t -New World\n",
      "\t -Blue Protocol\n",
      "\t -Black Desert Online\n",
      "\n",
      "=================\n",
      "\n",
      "Jeux :\n",
      "\t -New World\n",
      "\t -Blue Protocol\n",
      "\t -Black Desert Online\n",
      "\t -Project Mugen\n",
      "\n",
      "=================\n",
      "\n",
      "Jeux :\n",
      "\t -New World\n",
      "\t -Blue Protocol\n",
      "\t -Phantasy Star Online 2\n",
      "\t -Black Desert Online\n",
      "\t -Project Mugen\n",
      "\n",
      "=================\n",
      "\n",
      "Jeux :\n",
      "\t -New World\n",
      "\t -Blue Protocol\n",
      "\t -Phantasy Star Online 2\n",
      "\t -Project Mugen\n",
      "\n",
      "=================\n",
      "\n",
      "J'ai 4 jeux\n"
     ]
    }
   ],
   "source": [
    "IList<string> mesJeux = new List<string>{\"New World\", \"Blue Protocol\", \"Black Desert Online\"};\n",
    "Console.WriteLine(\"Jeux :\"); \n",
    "mesJeux.ToList().ForEach(i => Console.WriteLine(\"\\t -\"+i.ToString()));\n",
    "Console.WriteLine(\"\\n=================\\n\");\n",
    "\n",
    "mesJeux.Add(\"Project Mugen\");\n",
    "Console.WriteLine(\"Jeux :\"); \n",
    "mesJeux.ToList().ForEach(i => Console.WriteLine(\"\\t -\"+i.ToString()));\n",
    "Console.WriteLine(\"\\n=================\\n\");\n",
    "\n",
    "mesJeux.Insert(2,\"Phantasy Star Online 2\");\n",
    "Console.WriteLine(\"Jeux :\"); \n",
    "mesJeux.ToList().ForEach(i => Console.WriteLine(\"\\t -\"+i.ToString()));\n",
    "Console.WriteLine(\"\\n=================\\n\");\n",
    "\n",
    "mesJeux.RemoveAt(3);\n",
    "Console.WriteLine(\"Jeux :\"); \n",
    "mesJeux.ToList().ForEach(i => Console.WriteLine(\"\\t -\"+i.ToString()));\n",
    "Console.WriteLine(\"\\n=================\\n\");\n",
    "\n",
    "Console.WriteLine(\"J'ai \"+mesJeux.Count+\" jeux\");\n",
    "\n"
   ]
  },
  {
   "cell_type": "markdown",
   "metadata": {},
   "source": [
    "#### Les HashSet : Quand on a une collection d'éléments non ordonnés"
   ]
  },
  {
   "cell_type": "code",
   "execution_count": 9,
   "metadata": {
    "dotnet_interactive": {
     "language": "csharp"
    },
    "polyglot_notebook": {
     "kernelName": "csharp"
    },
    "vscode": {
     "languageId": "polyglot-notebook"
    }
   },
   "outputs": [
    {
     "name": "stdout",
     "output_type": "stream",
     "text": [
      "Jeux :\n",
      "\t -New World\n",
      "\t -Blue Protocol\n",
      "\t -Phantasy Star Online 2\n",
      "\n",
      "=================\n",
      "\n",
      "Jeux : (Ajout)\n",
      "\t -New World\n",
      "\t -Blue Protocol\n",
      "\t -Phantasy Star Online 2\n",
      "\t -Project Mugen\n",
      "\n",
      "=================\n",
      "\n",
      "Jeux : (Suppression)\n",
      "\t -New World\n",
      "\t -Phantasy Star Online 2\n",
      "\t -Project Mugen\n",
      "\n",
      "=================\n",
      "\n",
      "J'ai 3 jeux\n"
     ]
    }
   ],
   "source": [
    "ISet<string> mesJeux = new HashSet<string>();\n",
    "mesJeux.Add(\"New World\");\n",
    "mesJeux.Add(\"Blue Protocol\");\n",
    "mesJeux.Add(\"Phantasy Star Online 2\");\n",
    "\n",
    "Console.WriteLine(\"Jeux :\"); \n",
    "mesJeux.ToList().ForEach(i => Console.WriteLine(\"\\t -\"+i.ToString()));\n",
    "Console.WriteLine(\"\\n=================\\n\");\n",
    "\n",
    "mesJeux.Add(\"Project Mugen\");\n",
    "Console.WriteLine(\"Jeux : (Ajout)\"); \n",
    "mesJeux.ToList().ForEach(i => Console.WriteLine(\"\\t -\"+i.ToString()));\n",
    "Console.WriteLine(\"\\n=================\\n\");\n",
    "\n",
    "\n",
    "mesJeux.Remove(\"Blue Protocol\");\n",
    "Console.WriteLine(\"Jeux : (Suppression)\"); \n",
    "mesJeux.ToList().ForEach(i => Console.WriteLine(\"\\t -\"+i.ToString()));\n",
    "Console.WriteLine(\"\\n=================\\n\");\n",
    "\n",
    "Console.WriteLine(\"J'ai \"+mesJeux.Count+\" jeux\");"
   ]
  },
  {
   "cell_type": "markdown",
   "metadata": {},
   "source": [
    "#### Les Dictionnaires : Quand on veut des valeurs en fonction d'un attribut"
   ]
  },
  {
   "cell_type": "code",
   "execution_count": 10,
   "metadata": {
    "dotnet_interactive": {
     "language": "csharp"
    },
    "polyglot_notebook": {
     "kernelName": "csharp"
    },
    "vscode": {
     "languageId": "polyglot-notebook"
    }
   },
   "outputs": [
    {
     "name": "stdout",
     "output_type": "stream",
     "text": [
      "Jeux :\n",
      "\t -[MMO, New World]\n",
      "\t -[JRPG, Blue Protocol]\n",
      "\t -[Action RPG, Phantasy Star Online 2]\n",
      "\n",
      "=================\n",
      "\n",
      "Jeux : (Ajout)\n",
      "\t -[MMO, New World]\n",
      "\t -[JRPG, Blue Protocol]\n",
      "\t -[Action RPG, Phantasy Star Online 2]\n",
      "\t -[Action MMO, Project Mugen]\n",
      "\n",
      "=================\n",
      "\n",
      "Jeux : (Suppression)\n",
      "\t -[MMO, New World]\n",
      "\t -[JRPG, Blue Protocol]\n",
      "\t -[Action RPG, Phantasy Star Online 2]\n",
      "\n",
      "=================\n",
      "\n",
      "J'ai 3 jeux\n"
     ]
    }
   ],
   "source": [
    "IDictionary<string, string> mesJeux = new Dictionary<string, string>();\n",
    "mesJeux.Add(\"MMO\", \"New World\");\n",
    "mesJeux.Add(\"JRPG\", \"Blue Protocol\");\n",
    "mesJeux.Add(\"Action RPG\", \"Phantasy Star Online 2\");\n",
    "\n",
    "Console.WriteLine(\"Jeux :\"); \n",
    "mesJeux.ToList().ForEach(i => Console.WriteLine(\"\\t -\"+i.ToString()));\n",
    "Console.WriteLine(\"\\n=================\\n\");\n",
    "\n",
    "mesJeux.Add(\"Action MMO\", \"Project Mugen\");\n",
    "Console.WriteLine(\"Jeux : (Ajout)\"); \n",
    "mesJeux.ToList().ForEach(i => Console.WriteLine(\"\\t -\"+i.ToString()));\n",
    "Console.WriteLine(\"\\n=================\\n\");\n",
    "\n",
    "\n",
    "mesJeux.Remove(\"Action MMO\");\n",
    "Console.WriteLine(\"Jeux : (Suppression)\"); \n",
    "mesJeux.ToList().ForEach(i => Console.WriteLine(\"\\t -\"+i.ToString()));\n",
    "Console.WriteLine(\"\\n=================\\n\");\n",
    "\n",
    "Console.WriteLine(\"J'ai \"+mesJeux.Count+\" jeux\");"
   ]
  },
  {
   "cell_type": "markdown",
   "metadata": {},
   "source": [
    "#### Les classes"
   ]
  },
  {
   "cell_type": "code",
   "execution_count": 11,
   "metadata": {
    "dotnet_interactive": {
     "language": "csharp"
    },
    "polyglot_notebook": {
     "kernelName": "csharp"
    },
    "vscode": {
     "languageId": "polyglot-notebook"
    }
   },
   "outputs": [],
   "source": [
    "public class Livre\n",
    "{\n",
    "    private string titre;\n",
    "    private string auteur;\n",
    "    private string editeur;\n",
    "    private int nombreDePages;\n",
    "\n",
    "    public Livre(string monTitre, string monAuteur, string monEditeur, int monNombreDePages){\n",
    "        titre = monTitre;\n",
    "        auteur = monAuteur;\n",
    "        editeur = monEditeur;\n",
    "        nombreDePages = monNombreDePages;\n",
    "    }\n",
    "\n",
    "    public static void Main(string[] args){\n",
    "        Console.WriteLine(\"Je suis un livre !\");\n",
    "    }\n",
    "\n",
    "    public override string ToString(){\n",
    "        return \"\\\"\"+titre+\"\\\", un livre de \"+auteur+\" par \"+editeur;\n",
    "    }\n",
    "}"
   ]
  },
  {
   "cell_type": "markdown",
   "metadata": {},
   "source": [
    "Il existe 4 portées de C# : \n",
    "\n",
    "- Public\n",
    "- Protected\n",
    "- Internal\n",
    "- Private"
   ]
  },
  {
   "cell_type": "code",
   "execution_count": 12,
   "metadata": {
    "dotnet_interactive": {
     "language": "csharp"
    },
    "polyglot_notebook": {
     "kernelName": "csharp"
    },
    "vscode": {
     "languageId": "polyglot-notebook"
    }
   },
   "outputs": [
    {
     "name": "stdout",
     "output_type": "stream",
     "text": [
      "\"Je sais programmer ... un peu\", un livre de Boring Robot par Robototo\r\n"
     ]
    }
   ],
   "source": [
    "string monTitre = \"Je sais programmer ... un peu\";\n",
    "string monAuteur = \"Boring Robot\";\n",
    "string monEditeur = \"Robototo\";\n",
    "int monNombreDePages = 10;\n",
    "\n",
    "Livre monLivre = new Livre(monTitre, monAuteur, monEditeur, monNombreDePages);\n",
    "\n",
    "Console.WriteLine(monLivre);"
   ]
  },
  {
   "cell_type": "markdown",
   "metadata": {},
   "source": [
    "#### Les opérateurs de comparaison\n"
   ]
  },
  {
   "cell_type": "code",
   "execution_count": 13,
   "metadata": {
    "dotnet_interactive": {
     "language": "csharp"
    },
    "polyglot_notebook": {
     "kernelName": "csharp"
    },
    "vscode": {
     "languageId": "polyglot-notebook"
    }
   },
   "outputs": [
    {
     "name": "stdout",
     "output_type": "stream",
     "text": [
      "Pour deux opérateurs similaires\n",
      "== : True\n",
      ">= : True\n",
      "<= : True\n",
      "> : False\n",
      "< : False\n",
      "Pour deux opérateurs différents\n",
      "== : False\n",
      ">= : False\n",
      "<= : True\n",
      "> : False\n",
      "< : True\n"
     ]
    }
   ],
   "source": [
    "int a = 0;\n",
    "int b = 0;\n",
    "int c = 1;\n",
    "\n",
    "Console.WriteLine(\"Pour deux opérateurs similaires\");\n",
    "Console.WriteLine(\"== : \" + (a == b));\n",
    "Console.WriteLine(\">= : \" + (a >= b));\n",
    "Console.WriteLine(\"<= : \" + (a <= b));\n",
    "Console.WriteLine(\"> : \" + (a > b));\n",
    "Console.WriteLine(\"< : \" + (a < b));\n",
    "\n",
    "Console.WriteLine(\"Pour deux opérateurs différents\");\n",
    "Console.WriteLine(\"== : \" + (a == c));\n",
    "Console.WriteLine(\">= : \" + (a >= c));\n",
    "Console.WriteLine(\"<= : \" + (a <= c));\n",
    "Console.WriteLine(\"> : \" + (a > c));\n",
    "Console.WriteLine(\"< : \" + (a < c));\n"
   ]
  },
  {
   "cell_type": "markdown",
   "metadata": {},
   "source": [
    "#### Les opérateurs logiques"
   ]
  },
  {
   "cell_type": "code",
   "execution_count": 14,
   "metadata": {
    "dotnet_interactive": {
     "language": "csharp"
    },
    "polyglot_notebook": {
     "kernelName": "csharp"
    },
    "vscode": {
     "languageId": "polyglot-notebook"
    }
   },
   "outputs": [
    {
     "name": "stdout",
     "output_type": "stream",
     "text": [
      "Pour deux opérateurs similaires\n",
      "&& : False\n",
      "|| : False\n",
      "Pour deux opérateurs différents\n",
      "&& : False\n",
      "|| : True\n",
      "Négation : True\n"
     ]
    }
   ],
   "source": [
    "bool a = false;\n",
    "bool b = false;\n",
    "bool c = true;\n",
    "\n",
    "Console.WriteLine(\"Pour deux opérateurs similaires\");\n",
    "Console.WriteLine(\"&& : \" + (a && b));\n",
    "Console.WriteLine(\"|| : \" + (a || b));\n",
    "\n",
    "Console.WriteLine(\"Pour deux opérateurs différents\");\n",
    "Console.WriteLine(\"&& : \" + (a && c));\n",
    "Console.WriteLine(\"|| : \" + (a || c));\n",
    "\n",
    "Console.WriteLine(\"Négation : \" + (!a));\n",
    "\n",
    "\n"
   ]
  },
  {
   "cell_type": "markdown",
   "metadata": {},
   "source": [
    "#### Les conditions"
   ]
  },
  {
   "cell_type": "code",
   "execution_count": 15,
   "metadata": {
    "dotnet_interactive": {
     "language": "csharp"
    },
    "polyglot_notebook": {
     "kernelName": "csharp"
    },
    "vscode": {
     "languageId": "polyglot-notebook"
    }
   },
   "outputs": [
    {
     "name": "stdout",
     "output_type": "stream",
     "text": [
      "A est inférieur à B\r\n"
     ]
    }
   ],
   "source": [
    "int a = 0;\n",
    "int b = 1;\n",
    "\n",
    "if(a == b){\n",
    "    Console.WriteLine(\"A est égal à B\");\n",
    "}\n",
    "else if(a > b){\n",
    "    Console.WriteLine(\"A est supérieur à B\");\n",
    "}\n",
    "else{\n",
    "    Console.WriteLine(\"A est inférieur à B\");\n",
    "}"
   ]
  },
  {
   "cell_type": "code",
   "execution_count": 16,
   "metadata": {
    "dotnet_interactive": {
     "language": "csharp"
    },
    "polyglot_notebook": {
     "kernelName": "csharp"
    },
    "vscode": {
     "languageId": "polyglot-notebook"
    }
   },
   "outputs": [
    {
     "name": "stdout",
     "output_type": "stream",
     "text": [
      "A est égal à 2\r\n"
     ]
    }
   ],
   "source": [
    "int a = 2;\n",
    "\n",
    "switch(a){\n",
    "    case 0:\n",
    "        Console.WriteLine(\"A est égal à 0\");\n",
    "        break;\n",
    "    case 2:\n",
    "        Console.WriteLine(\"A est égal à 2\");\n",
    "        break;\n",
    "}"
   ]
  },
  {
   "cell_type": "markdown",
   "metadata": {},
   "source": [
    "Les énumérations"
   ]
  },
  {
   "cell_type": "code",
   "execution_count": 17,
   "metadata": {
    "dotnet_interactive": {
     "language": "csharp"
    },
    "polyglot_notebook": {
     "kernelName": "csharp"
    },
    "vscode": {
     "languageId": "polyglot-notebook"
    }
   },
   "outputs": [],
   "source": [
    "public class GPS{\n",
    "    \n",
    "    enum Sens{\n",
    "        droite,\n",
    "        gauche,\n",
    "        avant,\n",
    "        arrière\n",
    "    }\n",
    "\n",
    "    public static void Main(string[] args){\n",
    "        Sens sens = Sens.droite;\n",
    "\n",
    "        switch(sens){\n",
    "            case Sens.droite:\n",
    "                Console.WriteLine(\"Il faut tourner à droite\");\n",
    "                break;\n",
    "            case Sens.gauche:\n",
    "                Console.WriteLine(\"Il faut tourner à gauche\");\n",
    "                break;\n",
    "            case Sens.avant:\n",
    "                Console.WriteLine(\"Il faut continuer tout droit\");\n",
    "                break;\n",
    "            case Sens.arrière:\n",
    "                Console.WriteLine(\"Il faut retourner en arrière\");\n",
    "                break;\n",
    "        }\n",
    "    }\n",
    "}"
   ]
  },
  {
   "cell_type": "markdown",
   "metadata": {},
   "source": [
    "#### Les boucles"
   ]
  },
  {
   "cell_type": "code",
   "execution_count": 18,
   "metadata": {
    "dotnet_interactive": {
     "language": "csharp"
    },
    "polyglot_notebook": {
     "kernelName": "csharp"
    },
    "vscode": {
     "languageId": "polyglot-notebook"
    }
   },
   "outputs": [
    {
     "name": "stdout",
     "output_type": "stream",
     "text": [
      "Je suis à la 0ème itération\n",
      "Je suis à la 1ère itération\n",
      "Je suis à la 2ème itération\n"
     ]
    }
   ],
   "source": [
    "for(int i = 0; i < 3; i++){\n",
    "    if(i==1){\n",
    "        Console.WriteLine(\"Je suis à la \"+i+\"ère itération\");\n",
    "    }\n",
    "    else{\n",
    "        Console.WriteLine(\"Je suis à la \"+i+\"ème itération\");\n",
    "    }\n",
    "}"
   ]
  },
  {
   "cell_type": "code",
   "execution_count": null,
   "metadata": {
    "dotnet_interactive": {
     "language": "csharp"
    },
    "polyglot_notebook": {
     "kernelName": "csharp"
    },
    "vscode": {
     "languageId": "polyglot-notebook"
    }
   },
   "outputs": [
    {
     "name": "stdout",
     "output_type": "stream",
     "text": [
      "Chosir un nombr entre 0 et 10 : \n",
      "Chosir un nombr entre 0 et 10 : \n",
      "Chosir un nombr entre 0 et 10 : \n",
      "Chosir un nombr entre 0 et 10 : \n",
      "Chosir un nombr entre 0 et 10 : \n",
      "Chosir un nombr entre 0 et 10 : \n",
      "Chosir un nombr entre 0 et 10 : \n"
     ]
    }
   ],
   "source": [
    "int input = -1;\n",
    "\n",
    "while(true){\n",
    "    Console.WriteLine(\"Chosir un nombr entre 0 et 10 : \");\n",
    "    string inputUser = Console.ReadLine();\n",
    "    if (int.TryParse(inputUser, out input)){\n",
    "        if(input < 0 || input > 10){\n",
    "            break;\n",
    "        }\n",
    "    }\n",
    "}\n",
    "\n",
    "Console.WriteLine(\"Le nombre choisit est : \"+input );\n"
   ]
  },
  {
   "cell_type": "markdown",
   "metadata": {},
   "source": [
    "On peut aussi utiliser :\n",
    "\n",
    "do{}\n",
    "while{}\n",
    "\n",
    "Pour exécuter le code au moins 1 fois"
   ]
  },
  {
   "cell_type": "markdown",
   "metadata": {},
   "source": [
    "#### Les exceptions\n"
   ]
  },
  {
   "cell_type": "code",
   "execution_count": 1,
   "metadata": {
    "dotnet_interactive": {
     "language": "csharp"
    },
    "polyglot_notebook": {
     "kernelName": "csharp"
    },
    "vscode": {
     "languageId": "polyglot-notebook"
    }
   },
   "outputs": [
    {
     "name": "stdout",
     "output_type": "stream",
     "text": [
      "Voici votre exception : System.DivideByZeroException: Attempted to divide by zero.\r\n",
      "   at Submission#2.<<Initialize>>d__0.MoveNext()\r\n"
     ]
    }
   ],
   "source": [
    "int a = 10;\n",
    "int b = 0;\n",
    "\n",
    "try{\n",
    "    int c = a/b;\n",
    "}\n",
    "catch(Exception e){\n",
    "    Console.WriteLine(\"Voici votre exception : \"+e);\n",
    "}"
   ]
  },
  {
   "cell_type": "markdown",
   "metadata": {},
   "source": [
    "#### L'héritage et les interfaces"
   ]
  },
  {
   "cell_type": "code",
   "execution_count": 3,
   "metadata": {
    "dotnet_interactive": {
     "language": "csharp"
    },
    "polyglot_notebook": {
     "kernelName": "csharp"
    },
    "vscode": {
     "languageId": "polyglot-notebook"
    }
   },
   "outputs": [],
   "source": [
    "public interface Animal{\n",
    "    void crie();\n",
    "}"
   ]
  },
  {
   "cell_type": "code",
   "execution_count": 7,
   "metadata": {
    "dotnet_interactive": {
     "language": "csharp"
    },
    "polyglot_notebook": {
     "kernelName": "csharp"
    },
    "vscode": {
     "languageId": "polyglot-notebook"
    }
   },
   "outputs": [],
   "source": [
    "public class Felin : Animal{\n",
    "    private int patte;\n",
    "\n",
    "    public void crie(){\n",
    "        Console.WriteLine(\"Miaou\");\n",
    "    }\n",
    "\n",
    "    public int get(){\n",
    "        return patte;\n",
    "    }\n",
    "\n",
    "    public void set(int nb){\n",
    "        patte = nb;\n",
    "    }\n",
    "}"
   ]
  },
  {
   "cell_type": "code",
   "execution_count": 8,
   "metadata": {
    "dotnet_interactive": {
     "language": "csharp"
    },
    "polyglot_notebook": {
     "kernelName": "csharp"
    },
    "vscode": {
     "languageId": "polyglot-notebook"
    }
   },
   "outputs": [],
   "source": [
    "public class Canide : Animal{\n",
    "    private int patte;\n",
    "\n",
    "    public void crie(){\n",
    "        Console.WriteLine(\"Wouaf\");\n",
    "    }\n",
    "\n",
    "    public int get(){\n",
    "        return patte;\n",
    "    }\n",
    "\n",
    "    public void set(int nb){\n",
    "        patte = nb;\n",
    "    }\n",
    "}"
   ]
  },
  {
   "cell_type": "code",
   "execution_count": 9,
   "metadata": {
    "dotnet_interactive": {
     "language": "csharp"
    },
    "polyglot_notebook": {
     "kernelName": "csharp"
    },
    "vscode": {
     "languageId": "polyglot-notebook"
    }
   },
   "outputs": [],
   "source": [
    "public class Chiwawa : Canide{\n",
    "\n",
    "}"
   ]
  },
  {
   "cell_type": "code",
   "execution_count": 13,
   "metadata": {
    "dotnet_interactive": {
     "language": "csharp"
    },
    "polyglot_notebook": {
     "kernelName": "csharp"
    },
    "vscode": {
     "languageId": "polyglot-notebook"
    }
   },
   "outputs": [
    {
     "name": "stdout",
     "output_type": "stream",
     "text": [
      "Wouaf\n",
      "Miaou\n"
     ]
    }
   ],
   "source": [
    "Chiwawa pasmatou = new Chiwawa();\n",
    "pasmatou.crie();\n",
    "\n",
    "Felin matou = new Felin();\n",
    "matou.crie()"
   ]
  }
 ],
 "metadata": {
  "language_info": {
   "name": "csharp"
  }
 },
 "nbformat": 4,
 "nbformat_minor": 2
}
